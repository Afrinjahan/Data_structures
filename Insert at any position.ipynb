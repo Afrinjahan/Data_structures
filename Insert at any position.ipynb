{
 "cells": [
  {
   "cell_type": "code",
   "execution_count": 1,
   "metadata": {},
   "outputs": [
    {
     "name": "stdout",
     "output_type": "stream",
     "text": [
      "Before insertion : \n",
      "2 4 1 8 5 \n",
      "\n",
      "After insertion : \n",
      "2 4 10 1 8 5 "
     ]
    }
   ],
   "source": [
    "# python Program to Insert an element\n",
    "# at a specific position in an Array\n",
    "def insertElement(arr, n, x, pos) :\n",
    "     \n",
    "    # shift elements to the right\n",
    "    # which are on the right side of pos\n",
    "    for i in range(n-1,pos-1,-1) :\n",
    "        arr[i + 1] = arr[i]\n",
    "         \n",
    "    arr[pos] = x\n",
    " \n",
    "# Driver's code\n",
    "if __name__ == '__main__':\n",
    "    # Declaring array and key to delete\n",
    "    # here -1 is for empty space\n",
    "    arr = [2, 4, 1, 8, 5, -1, -1, -1, -1, -1, -1, -1, -1, -1, -1, -1]\n",
    "    n = 5\n",
    "     \n",
    "    print(\"Before insertion : \")\n",
    "    for i in range(0,n) :\n",
    "        print(arr[i],end=' ')\n",
    " \n",
    "    print(\"\\n\")\n",
    " \n",
    "    x = 10;\n",
    "    pos = 2;\n",
    "   \n",
    "    # Function call\n",
    "    insertElement(arr, n, x, pos);\n",
    "    n+=1\n",
    " \n",
    "    print(\"After insertion : \")\n",
    "    for i in range(0,n) :\n",
    "        print(arr[i],end=' ')"
   ]
  },
  {
   "cell_type": "code",
   "execution_count": null,
   "metadata": {},
   "outputs": [],
   "source": []
  }
 ],
 "metadata": {
  "kernelspec": {
   "display_name": "Python 3",
   "language": "python",
   "name": "python3"
  },
  "language_info": {
   "codemirror_mode": {
    "name": "ipython",
    "version": 3
   },
   "file_extension": ".py",
   "mimetype": "text/x-python",
   "name": "python",
   "nbconvert_exporter": "python",
   "pygments_lexer": "ipython3",
   "version": "3.6.3"
  }
 },
 "nbformat": 4,
 "nbformat_minor": 2
}
