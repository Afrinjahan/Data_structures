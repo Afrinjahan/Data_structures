{
 "cells": [
  {
   "cell_type": "markdown",
   "metadata": {},
   "source": [
    "Given an array of integers citations where citations[i] is the number of citations a researcher received for their ith paper and citations is sorted in ascending order, return the researcher's h-index.\n",
    "\n",
    "According to the definition of h-index on Wikipedia: The h-index is defined as the maximum value of h such that the given researcher has published at least h papers that have each been cited at least h times.\n",
    "\n",
    "\n",
    "\n",
    "Input: citations = [0,1,3,5,6]\n",
    "Output: 3\n",
    "\n",
    "\n",
    "Explanation: [0,1,3,5,6] means the researcher has 5 papers in total and each of them had received 0, 1, 3, 5, 6 citations respectively.\n",
    "Since the researcher has 3 papers with at least 3 citations each and the remaining two with no more than 3 citations each, their h-index is 3."
   ]
  },
  {
   "cell_type": "code",
   "execution_count": 27,
   "metadata": {},
   "outputs": [
    {
     "name": "stdout",
     "output_type": "stream",
     "text": [
      "5\n"
     ]
    },
    {
     "data": {
      "text/plain": [
       "5"
      ]
     },
     "execution_count": 27,
     "metadata": {},
     "output_type": "execute_result"
    }
   ],
   "source": [
    "#Function to find the H-index\n",
    "def hIndex(citations, n):\n",
    " \n",
    "    hindex = 0\n",
    " \n",
    "    # Set the range for binary search\n",
    "    low = 0\n",
    "    high = n - 1\n",
    " \n",
    "    while (low <= high):\n",
    "        mid = (low + high) // 2\n",
    " \n",
    "        # Check if current citations is\n",
    "        # possible\n",
    "        if (citations[mid] >= (mid + 1)):\n",
    " \n",
    "            # Check to the right of mid\n",
    "            low = mid + 1\n",
    " \n",
    "            # Update h-index\n",
    "            hindex = mid + 1\n",
    " \n",
    "        else:\n",
    "             \n",
    "            # Since current value is not\n",
    "            # possible, check to the left\n",
    "            # of mid\n",
    "            high = mid - 1\n",
    " \n",
    "    # Print the h-index\n",
    "    print(hindex)\n",
    " \n",
    "    return hindex\n",
    " \n",
    "#Driver Code\n",
    " \n",
    "#citations\n",
    "n = 5\n",
    "citations = [0,1,3,5,6]\n",
    " \n",
    "# Function Call\n",
    "hIndex(citations, n)"
   ]
  },
  {
   "cell_type": "code",
   "execution_count": null,
   "metadata": {},
   "outputs": [],
   "source": []
  },
  {
   "cell_type": "code",
   "execution_count": null,
   "metadata": {},
   "outputs": [],
   "source": []
  }
 ],
 "metadata": {
  "kernelspec": {
   "display_name": "Python 3",
   "language": "python",
   "name": "python3"
  },
  "language_info": {
   "codemirror_mode": {
    "name": "ipython",
    "version": 3
   },
   "file_extension": ".py",
   "mimetype": "text/x-python",
   "name": "python",
   "nbconvert_exporter": "python",
   "pygments_lexer": "ipython3",
   "version": "3.6.3"
  }
 },
 "nbformat": 4,
 "nbformat_minor": 2
}
