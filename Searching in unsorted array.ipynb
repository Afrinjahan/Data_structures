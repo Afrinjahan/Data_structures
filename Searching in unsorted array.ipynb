{
 "cells": [
  {
   "cell_type": "code",
   "execution_count": 3,
   "metadata": {},
   "outputs": [
    {
     "name": "stdout",
     "output_type": "stream",
     "text": [
      "Element not found\n"
     ]
    }
   ],
   "source": [
    "def findElement(arr, n, key):\n",
    "    for i in range(n):\n",
    "        if (arr[i] == key):\n",
    "            return i\n",
    "           \n",
    "    # If the key is not found\n",
    "    return -1\n",
    " \n",
    " \n",
    "# Driver's code\n",
    "if __name__ == '__main__':\n",
    "    arr = [12, 34, 10, 6, 40]\n",
    "    key = 14\n",
    "    n = len(arr)\n",
    " \n",
    "    # search operation\n",
    "    index = findElement(arr, n, key)\n",
    "    if index != -1:\n",
    "        print(\"Element Found at position: \" + str(index + 1))\n",
    "    else:\n",
    "        print(\"Element not found\")"
   ]
  },
  {
   "cell_type": "markdown",
   "metadata": {},
   "source": [
    "## Task\n",
    "#### Search an element in the unsorted array using minimum number of comparisons"
   ]
  },
  {
   "cell_type": "code",
   "execution_count": null,
   "metadata": {},
   "outputs": [],
   "source": []
  }
 ],
 "metadata": {
  "kernelspec": {
   "display_name": "Python 3",
   "language": "python",
   "name": "python3"
  },
  "language_info": {
   "codemirror_mode": {
    "name": "ipython",
    "version": 3
   },
   "file_extension": ".py",
   "mimetype": "text/x-python",
   "name": "python",
   "nbconvert_exporter": "python",
   "pygments_lexer": "ipython3",
   "version": "3.6.3"
  }
 },
 "nbformat": 4,
 "nbformat_minor": 2
}
