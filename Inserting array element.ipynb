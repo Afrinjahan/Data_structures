{
 "cells": [
  {
   "cell_type": "code",
   "execution_count": 3,
   "metadata": {},
   "outputs": [
    {
     "name": "stdout",
     "output_type": "stream",
     "text": [
      "Before Inserting: \n",
      "[12, 16, 20, 40, 50, 70]\n",
      "After Inserting: \n",
      "[12, 16, 20, 40, 50, 70, 26]\n"
     ]
    }
   ],
   "source": [
    "\n",
    "# Python program for inserting\n",
    "# an element in an unsorted array\n",
    " \n",
    "# method to insert element\n",
    " \n",
    "def insert(arr, element):\n",
    "    arr.append(element)\n",
    " \n",
    " \n",
    "# Driver's code\n",
    "if __name__ == '__main__':\n",
    "    # declaring array and key to insert\n",
    "    arr = [12, 16, 20, 40, 50, 70]\n",
    "    key = 26\n",
    " \n",
    "    # array before inserting an element\n",
    "    print(\"Before Inserting: \")\n",
    "    print(arr)\n",
    " \n",
    "    # array after Inserting element\n",
    "    insert(arr, key)\n",
    "    print(\"After Inserting: \")\n",
    "    print(arr)"
   ]
  },
  {
   "cell_type": "markdown",
   "metadata": {},
   "source": [
    "## Task\n",
    "### Insert an element at a specific/any position in an Array"
   ]
  },
  {
   "cell_type": "code",
   "execution_count": null,
   "metadata": {},
   "outputs": [],
   "source": []
  }
 ],
 "metadata": {
  "kernelspec": {
   "display_name": "Python 3",
   "language": "python",
   "name": "python3"
  },
  "language_info": {
   "codemirror_mode": {
    "name": "ipython",
    "version": 3
   },
   "file_extension": ".py",
   "mimetype": "text/x-python",
   "name": "python",
   "nbconvert_exporter": "python",
   "pygments_lexer": "ipython3",
   "version": "3.6.3"
  }
 },
 "nbformat": 4,
 "nbformat_minor": 2
}
