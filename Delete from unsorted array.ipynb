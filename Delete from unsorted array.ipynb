{
 "cells": [
  {
   "cell_type": "code",
   "execution_count": 1,
   "metadata": {},
   "outputs": [
    {
     "name": "stdout",
     "output_type": "stream",
     "text": [
      "Array before deletion:\n",
      "[10, 50, 30, 40, 20]\n",
      "Array after deletion\n",
      "[10, 50, 40, 20]\n"
     ]
    }
   ],
   "source": [
    "\n",
    "# Python program to delete an element\n",
    "# from an unsorted array\n",
    " \n",
    "# Driver's code\n",
    "if __name__ == '__main__':\n",
    "    # Declaring array and key to delete\n",
    "    arr = [10, 50, 30, 40, 20]\n",
    "    key = 30\n",
    "  \n",
    "    print(\"Array before deletion:\")\n",
    "    print (arr)\n",
    "  \n",
    "    # deletes key if found in the array\n",
    "    # otherwise shows error not in list\n",
    "    arr.remove(key)\n",
    "    print(\"Array after deletion\")\n",
    "    print(arr)"
   ]
  },
  {
   "cell_type": "code",
   "execution_count": null,
   "metadata": {},
   "outputs": [],
   "source": []
  }
 ],
 "metadata": {
  "kernelspec": {
   "display_name": "Python 3",
   "language": "python",
   "name": "python3"
  },
  "language_info": {
   "codemirror_mode": {
    "name": "ipython",
    "version": 3
   },
   "file_extension": ".py",
   "mimetype": "text/x-python",
   "name": "python",
   "nbconvert_exporter": "python",
   "pygments_lexer": "ipython3",
   "version": "3.6.3"
  }
 },
 "nbformat": 4,
 "nbformat_minor": 2
}
