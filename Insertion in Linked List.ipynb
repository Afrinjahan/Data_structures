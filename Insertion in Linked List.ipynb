{
 "cells": [
  {
   "cell_type": "markdown",
   "metadata": {},
   "source": [
    "### Given a Linked List, the task is to insert a new node in this given Linked List at the following positions: \n",
    "\n",
    "At the front of the linked list  \n",
    "After a given node. \n",
    "At the end of the linked list.\n"
   ]
  },
  {
   "attachments": {
    "image.png": {
     "image/png": "[encoded data removed]"
    }
   },
   "cell_type": "markdown",
   "metadata": {},
   "source": [
    "To insert a node at the start/beginning/front of a Linked List, we need to:\n",
    "\n",
    "Make the first node of Linked List linked to the new node\n",
    "Remove the head from the original first node of Linked List\n",
    "Make the new node as the Head of the Linked List.\n",
    "![image.png](attachment:image.png)"
   ]
  },
  {
   "cell_type": "code",
   "execution_count": 1,
   "metadata": {},
   "outputs": [],
   "source": [
    "# Function to insert a new node at the beginning\n",
    "def push(self, new_data):\n",
    " \n",
    "    # 1 & 2: Allocate the Node &\n",
    "    # Put in the data\n",
    "    new_node = Node(new_data)\n",
    " \n",
    "    # 3. Make next of new Node as head\n",
    "    new_node.next = self.head\n",
    " \n",
    "    # 4. Move the head to point to new Node\n",
    "    self.head = new_node"
   ]
  },
  {
   "cell_type": "markdown",
   "metadata": {},
   "source": [
    "Given a linked list and a key ‘X‘ in, the task is to check if X is present in the linked list or not. \n",
    "\n",
    "Examples:\n",
    "\n",
    "Input: 14->21->11->30->10, X = 14\n",
    "Output: Yes\n",
    "Explanation: 14 is present in the linked list.\n",
    "\n",
    "Input: 6->21->17->30->10->8, X = 13\n",
    "Output: No"
   ]
  },
  {
   "cell_type": "code",
   "execution_count": 3,
   "metadata": {},
   "outputs": [
    {
     "name": "stdout",
     "output_type": "stream",
     "text": [
      "YES\n"
     ]
    }
   ],
   "source": [
    "\n",
    "# Class definition for Node\n",
    "class Node:\n",
    "    # Initialize the node with a key\n",
    "    def __init__(self, key):\n",
    "        self.key = key\n",
    "        self.next = None\n",
    "   \n",
    "# Class definition for Linked List\n",
    "class LinkedList:\n",
    "    # Initialize the linked list with a head node\n",
    "    def __init__(self):\n",
    "        self.head = None\n",
    "   \n",
    "    # Add a new node with key \"new_key\" at the beginning of the linked list\n",
    "    def push(self, new_key):\n",
    "        new_node = Node(new_key)\n",
    "        new_node.next = self.head\n",
    "        self.head = new_node\n",
    "   \n",
    "# Create a linked list object\n",
    "llist = LinkedList()\n",
    " \n",
    "# Add new nodes to the linked list\n",
    "llist.push(10)\n",
    "llist.push(30)\n",
    "llist.push(11)\n",
    "llist.push(21)\n",
    "llist.push(14)\n",
    "   \n",
    "# Key to search for in the linked list\n",
    "x = 21\n",
    " \n",
    "# Create a temp variable to traverse the linked list\n",
    "temp = llist.head\n",
    " \n",
    "# List to store the keys in the linked list\n",
    "v = []\n",
    " \n",
    "# Traverse the linked list and store the keys in the list \"v\"\n",
    "while(temp):\n",
    "    v.append(temp.key)\n",
    "    temp = temp.next\n",
    "   \n",
    "# Check if \"x\" is in the list \"v\"\n",
    "if x in v:\n",
    "    print(\"YES\")\n",
    "else:\n",
    "    print(\"NO\")"
   ]
  },
  {
   "cell_type": "code",
   "execution_count": null,
   "metadata": {},
   "outputs": [],
   "source": []
  }
 ],
 "metadata": {
  "kernelspec": {
   "display_name": "Python 3",
   "language": "python",
   "name": "python3"
  },
  "language_info": {
   "codemirror_mode": {
    "name": "ipython",
    "version": 3
   },
   "file_extension": ".py",
   "mimetype": "text/x-python",
   "name": "python",
   "nbconvert_exporter": "python",
   "pygments_lexer": "ipython3",
   "version": "3.6.3"
  }
 },
 "nbformat": 4,
 "nbformat_minor": 2
}
