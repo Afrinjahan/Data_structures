{
 "cells": [
  {
   "cell_type": "markdown",
   "metadata": {},
   "source": [
    "Search an element in a Linked List (Iterative Approach): \n",
    "Follow the below steps to solve the problem:\n",
    "\n",
    "Initialize a node pointer, current = head.\n",
    "Do following while current is not NULL\n",
    " If the current value (i.e., current->key) is equal to the key being searched return true.\n",
    "Otherwise, move to the next node (current = current->next).\n",
    "If the key is not found, return false \n",
    "Below is the implementation of the above approach."
   ]
  },
  {
   "cell_type": "code",
   "execution_count": 3,
   "metadata": {},
   "outputs": [
    {
     "name": "stdout",
     "output_type": "stream",
     "text": [
      "Yes\n"
     ]
    }
   ],
   "source": [
    "# Iterative Python3 program to search an element\n",
    "# in linked list\n",
    " \n",
    "# Node class\n",
    "class Node:\n",
    " \n",
    "    # Function to initialise the node object\n",
    "    def __init__(self, data):\n",
    "        self.data = data  # Assign data\n",
    "        self.next = None  # Initialize next as null\n",
    " \n",
    "# Linked List class\n",
    " \n",
    "class LinkedList:\n",
    "    def __init__(self):\n",
    "        self.head = None  # Initialize head as None\n",
    " \n",
    "    # This function insert a new node at the\n",
    "    # beginning of the linked list\n",
    "    def push(self, new_data):\n",
    " \n",
    "        # Create a new Node\n",
    "        new_node = Node(new_data)\n",
    " \n",
    "        # 3. Make next of new Node as head\n",
    "        new_node.next = self.head\n",
    " \n",
    "        # 4. Move the head to point to new Node\n",
    "        self.head = new_node\n",
    " \n",
    "    # This Function checks whether the value\n",
    "    # x present in the linked list\n",
    "    def search(self, x):\n",
    " \n",
    "        # Initialize current to head\n",
    "        current = self.head\n",
    " \n",
    "        # loop till current not equal to None\n",
    "        while current != None:\n",
    "            if current.data == x:\n",
    "                return True  # data found\n",
    " \n",
    "            current = current.next\n",
    " \n",
    "        return False  # Data Not found\n",
    " \n",
    " \n",
    "# Driver code\n",
    "if __name__ == '__main__':\n",
    " \n",
    "    # Start with the empty list\n",
    "    llist = LinkedList()\n",
    "    x = 21\n",
    "     \n",
    "    ''' Use push() to construct below list\n",
    "        14->21->11->30->10 '''\n",
    "    llist.push(10)\n",
    "    llist.push(30)\n",
    "    llist.push(11)\n",
    "    llist.push(21)\n",
    "    llist.push(14)\n",
    " \n",
    "       # Function call\n",
    "    if llist.search(x):\n",
    "        print(\"Yes\")\n",
    "    else:\n",
    "        print(\"No\")"
   ]
  },
  {
   "cell_type": "code",
   "execution_count": null,
   "metadata": {},
   "outputs": [],
   "source": []
  }
 ],
 "metadata": {
  "kernelspec": {
   "display_name": "Python 3",
   "language": "python",
   "name": "python3"
  },
  "language_info": {
   "codemirror_mode": {
    "name": "ipython",
    "version": 3
   },
   "file_extension": ".py",
   "mimetype": "text/x-python",
   "name": "python",
   "nbconvert_exporter": "python",
   "pygments_lexer": "ipython3",
   "version": "3.6.3"
  }
 },
 "nbformat": 4,
 "nbformat_minor": 2
}
