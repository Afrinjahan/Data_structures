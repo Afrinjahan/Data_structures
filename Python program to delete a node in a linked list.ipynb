{
 "cells": [
  {
   "cell_type": "code",
   "execution_count": 1,
   "metadata": {},
   "outputs": [
    {
     "name": "stdout",
     "output_type": "stream",
     "text": [
      "Created Linked List: \n",
      " 8   2   3   1   7  \n",
      "Linked List after Deletion at position 4: \n",
      " 8   2   3   1  "
     ]
    }
   ],
   "source": [
    "\n",
    "# Python program to delete a node in a linked list\n",
    "# at a given position\n",
    " \n",
    "# Node class\n",
    " \n",
    "class Node:\n",
    " \n",
    "    # Constructor to initialize the node object\n",
    "    def __init__(self, data):\n",
    "        self.data = data\n",
    "        self.next = None\n",
    " \n",
    " \n",
    "class LinkedList:\n",
    "    \n",
    " \n",
    "    # Constructor to initialize head\n",
    "    def __init__(self):\n",
    "        self.head = None\n",
    " \n",
    "    # Function to insert a new node at the beginning\n",
    "    def push(self, new_data):\n",
    "        new_node = Node(new_data)\n",
    "        new_node.next = self.head\n",
    "        self.head = new_node\n",
    " \n",
    "   \n",
    "    def deleteNodeAtGivenPosition(self, position):\n",
    "        if self.head is None:\n",
    "            return\n",
    "        index = 0\n",
    "        current = self.head\n",
    "        while current.next and index < position:\n",
    "            previous = current\n",
    "            current = current.next\n",
    "            index += 1\n",
    "        if index < position:\n",
    "            print(\"\\nIndex is out of range.\")\n",
    "        elif index == 0:\n",
    "            self.head = self.head.next\n",
    "        else:\n",
    "            previous.next = current.next\n",
    "            # current = None #Optional statement\n",
    " \n",
    "    # Utility function to print the LinkedList\n",
    " \n",
    "    def printList(self):\n",
    "        temp = self.head\n",
    "        while(temp):\n",
    "            print(\" %d \" % (temp.data), end=\" \")\n",
    "            temp = temp.next\n",
    " \n",
    " \n",
    "# Driver program to test above function\n",
    "llist = LinkedList()\n",
    "llist.push(7)\n",
    "llist.push(1)\n",
    "llist.push(3)\n",
    "llist.push(2)\n",
    "llist.push(8)\n",
    " \n",
    "print(\"Created Linked List: \")\n",
    "llist.printList()\n",
    "llist.deleteNodeAtGivenPosition(4)\n",
    "print(\"\\nLinked List after Deletion at position 4: \")\n",
    "llist.printList()"
   ]
  },
  {
   "cell_type": "markdown",
   "metadata": {},
   "source": [
    "Given a singly linked list, delete a node at the kth position without using the loop.\n",
    "\n",
    "Examples: \n",
    "\n",
    "Input : list = 9->8->3->5->2->1 \n",
    "          k = 4\n",
    "Output : 9->8->3->2->1 \n",
    "\n",
    "Input  : list = 0->0->1->6->2->3 \n",
    "            k = 3\n",
    "Output : 0->0->6->2->3 "
   ]
  },
  {
   "cell_type": "code",
   "execution_count": 11,
   "metadata": {},
   "outputs": [],
   "source": [
    "def factorial(n):\n",
    " if n < 0 or n == 1:\n",
    "    \n",
    " # The function terminates here\n",
    "   return 1\n",
    " else:\n",
    "        \n",
    "        value = n*factorial(n-1)\n",
    " return value"
   ]
  },
  {
   "cell_type": "code",
   "execution_count": 12,
   "metadata": {},
   "outputs": [
    {
     "data": {
      "text/plain": [
       "120"
      ]
     },
     "execution_count": 12,
     "metadata": {},
     "output_type": "execute_result"
    }
   ],
   "source": [
    "# Returns the factorial of 5\n",
    "factorial(5)\n"
   ]
  },
  {
   "cell_type": "code",
   "execution_count": 19,
   "metadata": {},
   "outputs": [
    {
     "data": {
      "text/plain": [
       "2"
      ]
     },
     "execution_count": 19,
     "metadata": {},
     "output_type": "execute_result"
    }
   ],
   "source": [
    "def odd(n):\n",
    " if n <= 10:\n",
    "    \n",
    "    return n+1\n",
    " n = n+1\n",
    " even(n)\n",
    " return\n",
    "def even(n):\n",
    " if n <= 10:\n",
    "    return n-1\n",
    " n = n+1\n",
    " odd(n)\n",
    " return\n",
    "\n",
    "# Call the function 'odd'\n",
    "odd(1)\n"
   ]
  },
  {
   "cell_type": "code",
   "execution_count": 18,
   "metadata": {},
   "outputs": [
    {
     "data": {
      "text/plain": [
       "1"
      ]
     },
     "execution_count": 18,
     "metadata": {},
     "output_type": "execute_result"
    }
   ],
   "source": [
    "# Call the function 'even'\n",
    "even(2)"
   ]
  },
  {
   "cell_type": "code",
   "execution_count": null,
   "metadata": {},
   "outputs": [],
   "source": []
  }
 ],
 "metadata": {
  "kernelspec": {
   "display_name": "Python 3",
   "language": "python",
   "name": "python3"
  },
  "language_info": {
   "codemirror_mode": {
    "name": "ipython",
    "version": 3
   },
   "file_extension": ".py",
   "mimetype": "text/x-python",
   "name": "python",
   "nbconvert_exporter": "python",
   "pygments_lexer": "ipython3",
   "version": "3.6.3"
  }
 },
 "nbformat": 4,
 "nbformat_minor": 2
}
